{
 "cells": [
  {
   "cell_type": "code",
   "execution_count": 8,
   "metadata": {},
   "outputs": [],
   "source": [
    "import pandas as pd\n",
    "import numpy as np\n",
    "import torch\n",
    "from torch.utils.data import DataLoader, TensorDataset\n",
    "from torch import nn\n",
    "from torch.optim import lr_scheduler\n",
    "from time import time\n",
    "from sklearn.metrics import roc_auc_score\n",
    "import matplotlib.pyplot as plt\n",
    "from sklearn.model_selection import train_test_split\n",
    "from tqdm import tqdm_notebook as tqdm"
   ]
  },
  {
   "cell_type": "code",
   "execution_count": 9,
   "metadata": {},
   "outputs": [],
   "source": [
    "train_data = pd.read_csv(\"train.csv\",\n",
    "                         dtype={\"ID_code\": np.str, \"target\": np.bool})\n",
    "\n",
    "test_data = pd.read_csv(\"test.csv\",\n",
    "                         dtype={\"ID_code\": np.str, \"target\": np.bool})\n",
    "\n",
    "test_data = test_data.drop(['ID_code'], axis = 1)\n",
    "test_data = ((test_data-test_data.min())/(test_data.max()-test_data.min()))\n",
    "#############TRAIN ON PART (SANITY TEST)\n",
    "#train_data = train_data.head(2000)\n",
    "\n",
    "train_y = train_data.target\n",
    "train_x = train_data.drop(['target', 'ID_code'], axis=1)\n",
    "train_x = ((train_x-train_x.min())/(train_x.max()-train_x.min()))"
   ]
  },
  {
   "cell_type": "code",
   "execution_count": 10,
   "metadata": {},
   "outputs": [],
   "source": [
    " X_train, X_test, y_train, y_test = train_test_split(\n",
    "     train_x, train_y, test_size=0.25, random_state=333)"
   ]
  },
  {
   "cell_type": "code",
   "execution_count": 11,
   "metadata": {},
   "outputs": [
    {
     "data": {
      "text/plain": [
       "(200000, 200)"
      ]
     },
     "execution_count": 11,
     "metadata": {},
     "output_type": "execute_result"
    }
   ],
   "source": [
    "train_x.shape"
   ]
  },
  {
   "cell_type": "code",
   "execution_count": 12,
   "metadata": {},
   "outputs": [],
   "source": [
    "batch_size = 256\n",
    "hidden_size = 512\n",
    "\n",
    "tensor_x = torch.tensor(X_train.values).float()\n",
    "tensor_y = torch.tensor(y_train.values.astype(np.int32)).float().view(-1,1)\n",
    "tensor_test_x = torch.tensor(X_test.values).float()\n",
    "tensor_test_y = torch.tensor(y_test.values.astype(np.int32)).float().view(-1,1)\n",
    "\n",
    "train_dataset = TensorDataset(tensor_x, tensor_y)\n",
    "dataloader = DataLoader(train_dataset, batch_size = batch_size,\n",
    "                                         num_workers = 6, shuffle = True)\n",
    "\n",
    "test_dataset = TensorDataset(tensor_test_x, tensor_test_y)\n",
    "dataloader_test = DataLoader(test_dataset, batch_size = batch_size,\n",
    "                                         num_workers = 6, shuffle = False)\n",
    "#print(next(iter(dataloader))[0][0])\n",
    "#print(next(iter(dataloader))[1][0])"
   ]
  },
  {
   "cell_type": "code",
   "execution_count": 13,
   "metadata": {},
   "outputs": [
    {
     "name": "stdout",
     "output_type": "stream",
     "text": [
      "Net(\n",
      "  (lin1): Linear(in_features=200, out_features=512, bias=True)\n",
      "  (lin2): Linear(in_features=512, out_features=512, bias=True)\n",
      "  (lin3): Linear(in_features=512, out_features=1, bias=True)\n",
      "  (sigmoid): Sigmoid()\n",
      "  (dropout): AlphaDropout(p=0.5)\n",
      "  (batchnorm): BatchNorm1d(512, eps=1e-05, momentum=0.1, affine=True, track_running_stats=True)\n",
      ")\n"
     ]
    }
   ],
   "source": [
    "class Net(nn.Module):\n",
    "\n",
    "    def __init__(self, input_size, hidden_dim, batch_size, output_dim=1):\n",
    "        super(Net, self).__init__()\n",
    "        self.input_size = input_size\n",
    "        self.hidden_dim = hidden_dim\n",
    "        self.batch_size = batch_size\n",
    "        \n",
    "        self.lin1 = nn.Linear(input_size, hidden_dim)\n",
    "        self.lin2 = nn.Linear(hidden_dim, hidden_dim)\n",
    "        self.lin3 = nn.Linear(hidden_dim, output_dim)\n",
    "        #self.selu = nn.functional.selu()\n",
    "        self.sigmoid = nn.Sigmoid()\n",
    "        #Alpha Dropout is a Dropout that keeps mean and variance of inputs to their original values,\n",
    "        #in order to ensure the self-normalizing property even after this dropout.\n",
    "        self.dropout = nn.AlphaDropout(p=0.5)\n",
    "        self.batchnorm = nn.BatchNorm1d(hidden_dim).cuda()\n",
    "        \n",
    "        \n",
    "    def forward(self, input):\n",
    "        # Forward pass through FFN\n",
    "        layer1 = self.lin1(input)\n",
    "        #layer1 = self.batchnorm(layer1)\n",
    "        layer1 = self.dropout(layer1)\n",
    "        ##########Scaled Exponential Linear Unit - https://towardsdatascience.com/selu-make-fnns-great-again-snn-8d61526802a9\n",
    "        layer1 = nn.functional.selu(layer1)\n",
    "        layer2 = self.lin2(layer1)\n",
    "        #layer2 = self.batchnorm(layer2)\n",
    "        layer2 = self.dropout(layer2)\n",
    "        layer2 = nn.functional.selu(layer2)\n",
    "        layer3 = self.lin2(layer2)\n",
    "        #layer3 = self.batchnorm(layer3)\n",
    "        layer3 = self.dropout(layer3)\n",
    "        layer3 = nn.functional.selu(layer3)\n",
    "        layer4 = self.lin3(layer3)\n",
    "        y_pred = self.sigmoid(layer4)\n",
    "        return y_pred\n",
    "\n",
    "model = Net(input_size=200, hidden_dim=hidden_size, batch_size=batch_size).cuda()\n",
    "print(model)"
   ]
  },
  {
   "cell_type": "code",
   "execution_count": 14,
   "metadata": {},
   "outputs": [
    {
     "data": {
      "application/vnd.jupyter.widget-view+json": {
       "model_id": "8876dd7467054873bbb5b2040d900395",
       "version_major": 2,
       "version_minor": 0
      },
      "text/plain": [
       "HBox(children=(IntProgress(value=0), HTML(value='')))"
      ]
     },
     "metadata": {},
     "output_type": "display_data"
    },
    {
     "name": "stdout",
     "output_type": "stream",
     "text": [
      "Epoch:  0 BCE:  0.29924333095550537 ROC train:  0.5006052256790489 ROC val:  0.49822156952193875\n",
      "Epoch:  1 BCE:  0.33446618914604187 ROC train:  0.500821399708918 ROC val:  0.5133679300631236\n",
      "Epoch:  2 BCE:  0.3692208230495453 ROC train:  0.5040171739430327 ROC val:  0.5012719654773964\n",
      "Epoch:  3 BCE:  0.30202415585517883 ROC train:  0.5024577985481953 ROC val:  0.5089297232638252\n",
      "Epoch:  4 BCE:  0.32144346833229065 ROC train:  0.5081732096384983 ROC val:  0.503780473664202\n",
      "Epoch:  5 BCE:  0.39583101868629456 ROC train:  0.5092143701713665 ROC val:  0.5126921223751127\n",
      "Epoch:  6 BCE:  0.2724354565143585 ROC train:  0.5148907669109902 ROC val:  0.5163690476387592\n",
      "Epoch:  7 BCE:  0.2895214855670929 ROC train:  0.5224874228348392 ROC val:  0.511040829719604\n",
      "Epoch:  8 BCE:  0.32779550552368164 ROC train:  0.5234688133893552 ROC val:  0.5202811628616741\n",
      "Epoch:  9 BCE:  0.29498323798179626 ROC train:  0.5237258425266985 ROC val:  0.5246725440511869\n",
      "Epoch:  10 BCE:  0.34653982520103455 ROC train:  0.5288132942717033 ROC val:  0.5271289833079219\n",
      "Epoch:  11 BCE:  0.2785141170024872 ROC train:  0.531366617567698 ROC val:  0.5308176337395822\n",
      "Epoch:  12 BCE:  0.3244627118110657 ROC train:  0.5364505646908712 ROC val:  0.5413134782680666\n",
      "Epoch:  13 BCE:  0.29930782318115234 ROC train:  0.5421888154840686 ROC val:  0.5393978008459438\n",
      "Epoch:  14 BCE:  0.3748307526111603 ROC train:  0.5446063732484623 ROC val:  0.5461429979237202\n",
      "Epoch:  15 BCE:  0.3197084367275238 ROC train:  0.5495379171737669 ROC val:  0.5515747377508653\n",
      "Epoch:  16 BCE:  0.3666194677352905 ROC train:  0.5562593308834092 ROC val:  0.5498006454304292\n",
      "Epoch:  17 BCE:  0.3227725923061371 ROC train:  0.5565111098536843 ROC val:  0.5614674812300504\n",
      "Epoch:  18 BCE:  0.3801717460155487 ROC train:  0.5655859695054877 ROC val:  0.5614882823095129\n",
      "Epoch:  19 BCE:  0.30078020691871643 ROC train:  0.5727915226722444 ROC val:  0.5745953930638162\n",
      "Epoch:  20 BCE:  0.2930527925491333 ROC train:  0.576928598966362 ROC val:  0.5728216252773093\n",
      "Epoch:  21 BCE:  0.30579230189323425 ROC train:  0.5824448540472474 ROC val:  0.5805813374949269\n",
      "Epoch:  22 BCE:  0.3215332329273224 ROC train:  0.5841092930594982 ROC val:  0.5841487998927369\n",
      "Epoch:  23 BCE:  0.2606247663497925 ROC train:  0.588252264351419 ROC val:  0.5928717663433773\n",
      "Epoch:  24 BCE:  0.26853421330451965 ROC train:  0.5969234004251166 ROC val:  0.6090980322995683\n",
      "Epoch:  25 BCE:  0.3100587725639343 ROC train:  0.6065773557187553 ROC val:  0.6079641460743376\n",
      "Epoch:  26 BCE:  0.360954225063324 ROC train:  0.608727116582822 ROC val:  0.6015993888624309\n",
      "Epoch:  27 BCE:  0.27966737747192383 ROC train:  0.6114169274929082 ROC val:  0.6236492726768558\n",
      "Epoch:  28 BCE:  0.293828547000885 ROC train:  0.6182396150555067 ROC val:  0.6225146049209384\n",
      "Epoch:  29 BCE:  0.2571660578250885 ROC train:  0.6241513445063538 ROC val:  0.6238317821693298\n",
      "Epoch:  30 BCE:  0.3480655252933502 ROC train:  0.6253512635471046 ROC val:  0.6247928375194037\n",
      "Epoch:  31 BCE:  0.28618112206459045 ROC train:  0.6321362323250868 ROC val:  0.6314463681123188\n",
      "Epoch:  32 BCE:  0.3833841383457184 ROC train:  0.6348030441082739 ROC val:  0.6385576350468137\n",
      "Epoch:  33 BCE:  0.33134278655052185 ROC train:  0.6397333483151222 ROC val:  0.6415731005544625\n",
      "Epoch:  34 BCE:  0.3700876832008362 ROC train:  0.6451570553010366 ROC val:  0.6483491835483586\n",
      "Epoch:  35 BCE:  0.288191020488739 ROC train:  0.6511913768909982 ROC val:  0.6526082167107412\n",
      "Epoch:  36 BCE:  0.35361799597740173 ROC train:  0.6594949247562466 ROC val:  0.6523493203206443\n",
      "Epoch:  37 BCE:  0.32055458426475525 ROC train:  0.6616073872919068 ROC val:  0.6620042731536999\n",
      "Epoch:  38 BCE:  0.2567169666290283 ROC train:  0.6657386726566688 ROC val:  0.6677219406187598\n",
      "Epoch:  39 BCE:  0.31808680295944214 ROC train:  0.6679811801576383 ROC val:  0.6701845504355773\n",
      "Epoch:  40 BCE:  0.32991164922714233 ROC train:  0.6763442522225647 ROC val:  0.6768335397611971\n",
      "Epoch:  41 BCE:  0.39502981305122375 ROC train:  0.6823048010924289 ROC val:  0.6821105696280899\n",
      "Epoch:  42 BCE:  0.40123066306114197 ROC train:  0.6844686303868355 ROC val:  0.6847990064899323\n",
      "Epoch:  43 BCE:  0.2769809067249298 ROC train:  0.6897664534231681 ROC val:  0.6930640025813296\n",
      "Epoch:  44 BCE:  0.3059822916984558 ROC train:  0.6954176478847168 ROC val:  0.695093639982308\n",
      "Epoch:  45 BCE:  0.29167047142982483 ROC train:  0.7032168456098855 ROC val:  0.7034832747642316\n",
      "Epoch:  46 BCE:  0.2369861602783203 ROC train:  0.7065490038816936 ROC val:  0.7071308793808455\n",
      "Epoch:  47 BCE:  0.36432912945747375 ROC train:  0.7132057780461247 ROC val:  0.7205413962432509\n",
      "Epoch:  48 BCE:  0.31824594736099243 ROC train:  0.7172955479731213 ROC val:  0.7178988069739789\n",
      "Epoch:  49 BCE:  0.2608244717121124 ROC train:  0.7219236351941853 ROC val:  0.7213418492449293\n",
      "Epoch:  50 BCE:  0.3268581032752991 ROC train:  0.729473119818473 ROC val:  0.7289522493625458\n",
      "Epoch:  51 BCE:  0.32719072699546814 ROC train:  0.7312011948411894 ROC val:  0.7315413876729059\n",
      "Epoch:  52 BCE:  0.2684997320175171 ROC train:  0.7375325536129309 ROC val:  0.740454519967493\n",
      "Epoch:  53 BCE:  0.27468210458755493 ROC train:  0.7407428838983384 ROC val:  0.7447407521639426\n",
      "Epoch:  54 BCE:  0.38656914234161377 ROC train:  0.7418617247615915 ROC val:  0.752703770538069\n",
      "Epoch:  55 BCE:  0.295768678188324 ROC train:  0.7505400969137246 ROC val:  0.7583207772922295\n",
      "Epoch:  56 BCE:  0.2547813355922699 ROC train:  0.7525690933561626 ROC val:  0.7618534306664897\n",
      "Epoch:  57 BCE:  0.3429761826992035 ROC train:  0.7560008623539642 ROC val:  0.7601365357952911\n",
      "Epoch:  58 BCE:  0.28427061438560486 ROC train:  0.7610949840745728 ROC val:  0.7628544323901357\n",
      "Epoch:  59 BCE:  0.31081047654151917 ROC train:  0.7636522255599174 ROC val:  0.7657708421948207\n",
      "Epoch:  60 BCE:  0.21423886716365814 ROC train:  0.7683856189787475 ROC val:  0.7699340407086795\n",
      "Epoch:  61 BCE:  0.3196631371974945 ROC train:  0.7680425835431691 ROC val:  0.7768456309681597\n",
      "Epoch:  62 BCE:  0.3127812445163727 ROC train:  0.7733436425423623 ROC val:  0.7772063316649065\n",
      "Epoch:  63 BCE:  0.2913222312927246 ROC train:  0.7760076786748998 ROC val:  0.7787135356712748\n",
      "Epoch:  64 BCE:  0.26802822947502136 ROC train:  0.7789412058338386 ROC val:  0.7828531911251265\n",
      "Epoch:  65 BCE:  0.23970232903957367 ROC train:  0.7785076579116454 ROC val:  0.7796887380514059\n",
      "Epoch:  66 BCE:  0.266558974981308 ROC train:  0.7832752354782472 ROC val:  0.7869952264944591\n",
      "Epoch:  67 BCE:  0.2997652590274811 ROC train:  0.7839979460696924 ROC val:  0.7826134488599942\n",
      "Epoch:  68 BCE:  0.26595890522003174 ROC train:  0.7857010894415023 ROC val:  0.7892300046621176\n",
      "Epoch:  69 BCE:  0.2584637701511383 ROC train:  0.7878233774655505 ROC val:  0.7874273798484768\n",
      "Epoch:  70 BCE:  0.24845270812511444 ROC train:  0.7917389291846537 ROC val:  0.7941709255563276\n",
      "Epoch:  71 BCE:  0.32188013195991516 ROC train:  0.7930786224834447 ROC val:  0.7967137813544979\n",
      "Epoch:  72 BCE:  0.3132696747779846 ROC train:  0.793170471622247 ROC val:  0.7959387656312705\n",
      "Epoch:  73 BCE:  0.28994137048721313 ROC train:  0.796033144652088 ROC val:  0.797191161933507\n",
      "Epoch:  74 BCE:  0.21194122731685638 ROC train:  0.7948251687945073 ROC val:  0.7964036284730103\n",
      "Epoch:  75 BCE:  0.2869798243045807 ROC train:  0.7961426155559521 ROC val:  0.7985706320345958\n",
      "Epoch:  76 BCE:  0.2460068166255951 ROC train:  0.7977275504567269 ROC val:  0.8004443915947196\n",
      "Epoch:  77 BCE:  0.30855411291122437 ROC train:  0.8006099116130733 ROC val:  0.7982694402634392\n",
      "Epoch:  78 BCE:  0.2699768841266632 ROC train:  0.7997774730219538 ROC val:  0.8003052239396484\n",
      "Epoch:  79 BCE:  0.2877114713191986 ROC train:  0.8030097592895383 ROC val:  0.8025953517000904\n",
      "Epoch:  80 BCE:  0.28218331933021545 ROC train:  0.8017749822393663 ROC val:  0.7986669656264391\n",
      "Epoch:  81 BCE:  0.21587735414505005 ROC train:  0.8033658856993291 ROC val:  0.8037319379593035\n",
      "Epoch:  82 BCE:  0.2930489182472229 ROC train:  0.8018148653032563 ROC val:  0.8048170491634594\n",
      "Epoch:  83 BCE:  0.29696574807167053 ROC train:  0.8043846127160801 ROC val:  0.8052980835088146\n",
      "Epoch:  84 BCE:  0.24610498547554016 ROC train:  0.8030240934265527 ROC val:  0.8055829691058138\n",
      "Epoch:  85 BCE:  0.2392958700656891 ROC train:  0.8052098518864446 ROC val:  0.8053509494235683\n",
      "Epoch:  86 BCE:  0.28445711731910706 ROC train:  0.8079899533688674 ROC val:  0.8066861018777528\n",
      "Epoch:  87 BCE:  0.19190366566181183 ROC train:  0.8077247596558764 ROC val:  0.8094269896041539\n",
      "Epoch:  88 BCE:  0.2379947155714035 ROC train:  0.8078686351456421 ROC val:  0.8073366202041375\n",
      "Epoch:  89 BCE:  0.2937949299812317 ROC train:  0.8080066842784956 ROC val:  0.8049071393406647\n",
      "Epoch:  90 BCE:  0.3149247467517853 ROC train:  0.808974124494527 ROC val:  0.8077940739583506\n",
      "Epoch:  91 BCE:  0.28360238671302795 ROC train:  0.8098663692296292 ROC val:  0.8056197650717873\n",
      "Epoch:  92 BCE:  0.31151631474494934 ROC train:  0.8075800602293951 ROC val:  0.8122849369395916\n",
      "Epoch:  93 BCE:  0.23341004550457 ROC train:  0.811946940321684 ROC val:  0.8104552278930015\n",
      "Epoch:  94 BCE:  0.23306411504745483 ROC train:  0.8106247563546678 ROC val:  0.8091609821678938\n",
      "Epoch:  95 BCE:  0.3491281270980835 ROC train:  0.8126566477697343 ROC val:  0.8098157790436309\n",
      "Epoch:  96 BCE:  0.2350524514913559 ROC train:  0.811846558554285 ROC val:  0.8124293611612303\n",
      "Epoch:  97 BCE:  0.29849138855934143 ROC train:  0.8126247538658817 ROC val:  0.8099122583445851\n",
      "Epoch:  98 BCE:  0.2750288248062134 ROC train:  0.8113654661130626 ROC val:  0.8113416691396373\n",
      "Epoch:  99 BCE:  0.29059532284736633 ROC train:  0.8127870930172282 ROC val:  0.8118803976698357\n",
      "\n"
     ]
    }
   ],
   "source": [
    "loss_fn = torch.nn.BCELoss()\n",
    "learning_rate = 1e-6\n",
    "optimiser = torch.optim.RMSprop(model.parameters(), lr=learning_rate, momentum = 0.9)\n",
    "#After 100 epochs LR will be on ~ 13% of the initial value\n",
    "lr_sched = lr_scheduler.ExponentialLR(optimiser, gamma=98e-2, last_epoch=-1)\n",
    "\n",
    "#####################\n",
    "# Train model\n",
    "#####################\n",
    "num_epochs = 100\n",
    "hist = np.zeros((2, num_epochs))\n",
    "\n",
    "\n",
    "predictions = []\n",
    "\n",
    "for i in range(4):\n",
    "    predictions.append(np.array([]))\n",
    "\n",
    "roc_score = 0.0\n",
    "\n",
    "model.train()\n",
    "for t in tqdm(range(num_epochs)):\n",
    "    lr_sched.step()\n",
    "    for step, batch in enumerate(dataloader):\n",
    "        # Zero out gradient, else they will accumulate between epochs\n",
    "        optimiser.zero_grad()\n",
    "\n",
    "        x = batch[0].cuda()\n",
    "        y = batch[1].cuda()\n",
    "            \n",
    "        # Forward pass\n",
    "        y_pred = model(x)\n",
    "\n",
    "        loss = loss_fn(y_pred, y)\n",
    "        \n",
    "\n",
    "        predictions[0] = np.append(predictions[0], y.cpu().numpy().reshape(-1), axis = 0)\n",
    "        predictions[1] = np.append(predictions[1], y_pred.detach().cpu().numpy().reshape(-1), axis = 0)    \n",
    "            \n",
    "        hist[0][t] = loss.item()\n",
    "\n",
    "         # Backward pass\n",
    "        loss.backward()\n",
    "        \n",
    "         # Update parameters\n",
    "        optimiser.step()\n",
    "        \n",
    "    for test_batch in dataloader_test:\n",
    "        x_test = test_batch[0].cuda()\n",
    "        y_test = test_batch[1].cuda()\n",
    "        test_pred = model(x_test)\n",
    "        predictions[2] = np.append(predictions[2], y_test.cpu().numpy().reshape(-1), axis = 0)\n",
    "        predictions[3] = np.append(predictions[3], test_pred.detach().cpu().numpy().reshape(-1), axis = 0)\n",
    "\n",
    "#     for sublist in predictions[0]:\n",
    "#         for item in sublist:\n",
    "#             flat_list[0].append(item)\n",
    "#     for sublist in predictions[1]:\n",
    "#         for item in sublist:\n",
    "#             flat_list[1].append(item)\n",
    "#     for sublist in predictions[2]:\n",
    "#         for item in sublist:\n",
    "#             flat_list[2].append(item)\n",
    "#     for sublist in predictions[3]:\n",
    "#         for item in sublist:\n",
    "#             flat_list[3].append(item)\n",
    "    \n",
    "    roc_score = roc_auc_score(y_true = predictions[0], y_score = predictions[1])\n",
    "    roc_val = roc_auc_score(y_true = predictions[2], y_score = predictions[3])\n",
    "    print(\"Epoch: \", t, \"BCE: \", loss.item(), \"ROC train: \", roc_score, \"ROC val: \", roc_val)\n",
    "    hist[1][t] = roc_val\n",
    "    predictions = []\n",
    "    for i in range(4):\n",
    "        predictions.append(np.array([]))\n",
    "    #tqdm.write(\"Epoch: {}, BCE: {}, ROC train: {}, ROC val: {}\", t, loss_item(), roc_score, roc_val)\n"
   ]
  },
  {
   "cell_type": "code",
   "execution_count": 15,
   "metadata": {},
   "outputs": [
    {
     "data": {
      "text/plain": [
       "[<matplotlib.lines.Line2D at 0x7f633ce5e908>]"
      ]
     },
     "execution_count": 15,
     "metadata": {},
     "output_type": "execute_result"
    },
    {
     "data": {
      "image/png": "[encoded data removed]",
      "text/plain": [
       "<Figure size 432x288 with 1 Axes>"
      ]
     },
     "metadata": {
      "needs_background": "light"
     },
     "output_type": "display_data"
    }
   ],
   "source": [
    "plt.plot(hist[1])"
   ]
  },
  {
   "cell_type": "code",
   "execution_count": null,
   "metadata": {},
   "outputs": [],
   "source": []
  }
 ],
 "metadata": {
  "kernelspec": {
   "display_name": "Python 3",
   "language": "python",
   "name": "python3"
  },
  "language_info": {
   "codemirror_mode": {
    "name": "ipython",
    "version": 3
   },
   "file_extension": ".py",
   "mimetype": "text/x-python",
   "name": "python",
   "nbconvert_exporter": "python",
   "pygments_lexer": "ipython3",
   "version": "3.7.3"
  }
 },
 "nbformat": 4,
 "nbformat_minor": 2
}
